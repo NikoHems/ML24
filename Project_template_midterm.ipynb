{
  "cells": [
    {
      "cell_type": "markdown",
      "metadata": {
        "id": "view-in-github",
        "colab_type": "text"
      },
      "source": [
        "<a href=\"https://colab.research.google.com/github/NikoHems/ML24/blob/main/Project_template_midterm.ipynb\" target=\"_parent\"><img src=\"https://colab.research.google.com/assets/colab-badge.svg\" alt=\"Open In Colab\"/></a>"
      ]
    },
    {
      "cell_type": "markdown",
      "metadata": {
        "cell_id": "acef44e5de2c417c886819dabac49ee2",
        "deepnote_cell_type": "markdown",
        "id": "SOtT0BuNMk0E"
      },
      "source": [
        "# Midterm project submission\n",
        "**Due April 5th (Friday) before class.** Counts for 1/3 of the overall project grade (10% of the final grade).\n",
        "\n",
        "You should address all the questions relevant to your project.\n",
        "You will not be graded based on the values of the model performance, but on whether or not you have applied the right methodology: formulated the business model, translated it into a right machine learning approach, analyzed your data, prepared it for modeling, applied at least two different machine learning algorithms, used cross validation for model tuning, justified your tuning metric, set up the proper machine learning pipeline without data leakage, evaluated your model using all the relevant metrics, and justified all your decisions.\n",
        "\n",
        "If you have tried different approaches, please include them all, and not just the best one.\n",
        "If doing some feature engineering or feature selection has improved your model, also please include all of the steps, not just the most successful ones.\n",
        "\n",
        "You should submit the notebook with the code, output and explanations. The notebook should be executable and comprehensible.\n",
        "\n",
        "The points will be deducted for the following reasons:\n",
        "- data leakage\n",
        "- unjustified decisions (no discussion on: choice of metric for optimization, choice of the number of components of PCA if used, or blind removal of outliers...)\n",
        "- notebook not comprehensible\n",
        "- notebook with incomplete output\n",
        "- notebook not executable\n",
        "- blind copy pasting from ChatGPT, if the copied code is not suitable for the task\n",
        "- writing your own code (or copy pasting them from outside source) for simple functions that we covered and that already exist in `sklearn` (train test split, plain grid search, encoding of categorical variables,...), as this leads to:\n",
        "    - convoluted code prone to bugs\n",
        "    - code that is hard to understand and review\n",
        "    - waste of data scientist's time if ready-made simple functions exist\n",
        "\n",
        "Additional points will be awarded for trying and testing different relevant approaches, from exploratory data analysis, to feature engineering, to modeling and evaluation."
      ]
    },
    {
      "cell_type": "markdown",
      "metadata": {
        "cell_id": "867d371633074512bfec3122569a324d",
        "deepnote_cell_type": "markdown",
        "id": "aCwPdEQCMk0K"
      },
      "source": [
        "There should be one submission per group, but team member evaluation can be submitted per person. If not submitted, the default is that all the team members have contributed equally to the project and should get the same grade."
      ]
    },
    {
      "cell_type": "markdown",
      "metadata": {
        "cell_id": "904bd4f365e54cadbf7bdcb82746c42b",
        "deepnote_cell_type": "markdown",
        "id": "aQW0tTD7Mk0L"
      },
      "source": [
        "Here, fill out group number, student IDs, and project name.\n",
        "### Group number:\n",
        "### Student IDs:\n",
        "### Project name:"
      ]
    },
    {
      "cell_type": "markdown",
      "metadata": {
        "cell_id": "a7f0c56593a24e2991a1df09242f0268",
        "deepnote_cell_type": "markdown",
        "id": "Izwfk_XOMk0L"
      },
      "source": [
        "## What business problem are you solving?\n",
        "- Please state clearly what business problem are you solving. (one sentence)\n",
        "- Elaborate why is this a relevant problem, and what can you do with the model output to create business value, i.e., how is the model output actionable. (2-3 paragraphs)"
      ]
    },
    {
      "cell_type": "markdown",
      "metadata": {
        "cell_id": "29f99780daa146f7bdffa5f513089bdc",
        "deepnote_cell_type": "markdown",
        "id": "U0NnZOAaMk0M"
      },
      "source": [
        "## What is the machine learning problem that you are solving?\n",
        "- Please state clearly what is the ML problem. Is it a classification problem or a regression problem? Is the goal to build a model that generates a ranked list, or is it to detect anomalies as new data come in? Are you doing clustering to find hidden patterns?) (one sentence)\n",
        "- If applicable state your target."
      ]
    },
    {
      "cell_type": "markdown",
      "metadata": {
        "cell_id": "9072ac485e2b48d897f6142e915d0818",
        "deepnote_cell_type": "markdown",
        "id": "WfQLscrAMk0M"
      },
      "source": [
        "## Data exploration and preparation\n",
        "\n",
        "- How many data instances do you have?\n",
        "- Do you have duplicates?\n",
        "- How many features? What type are they?\n",
        "- If they are categorical, what categories they have, what is their frequency?\n",
        "- If they are numerical, what is their distribution?\n",
        "- What is the distribution of the target variable?\n",
        "- If you have a target, you can also check the relationship between the target and the variables.\n",
        "- Do you have missing data? If yes, how are you going to handle it?\n",
        "- Can you use the features in their original form, or do you need to alter them in some way?\n",
        "- What have you learned about your data? Is there anything that can help you in feature engineering or modeling?\n",
        "\n",
        "If you have a lot of features, for midterm submission, you can choose to use only a subset. The same goes for data, if you use a reasonable subset of data for the problem at hand."
      ]
    },
    {
      "cell_type": "code",
      "metadata": {
        "source_hash": "c76c7c51",
        "execution_start": 1711898792134,
        "execution_millis": 88,
        "deepnote_to_be_reexecuted": false,
        "cell_id": "63e6e6192f744198b503b2fe2579a9f9",
        "deepnote_cell_type": "code",
        "id": "qjV0MfzkMk0N"
      },
      "source": [
        "import pandas as pd\n",
        "import numpy as np"
      ],
      "execution_count": null,
      "outputs": []
    },
    {
      "cell_type": "markdown",
      "metadata": {
        "formattedRanges": [],
        "cell_id": "a0f8629aeb074da7b5b3f6828cad97a1",
        "deepnote_cell_type": "text-cell-h3",
        "id": "iLinVJEoMk0P"
      },
      "source": [
        "### Data Loading and inspection"
      ]
    },
    {
      "cell_type": "markdown",
      "metadata": {
        "formattedRanges": [
          {
            "type": "marks",
            "marks": {
              "bold": true,
              "color": "#9042CC"
            },
            "toCodePoint": 46,
            "fromCodePoint": 42
          },
          {
            "type": "marks",
            "marks": {
              "bold": true,
              "color": "#9042CC"
            },
            "toCodePoint": 109,
            "fromCodePoint": 99
          },
          {
            "type": "marks",
            "marks": {
              "color": "#000000"
            },
            "toCodePoint": 112,
            "fromCodePoint": 109
          }
        ],
        "cell_id": "734d30b7422d4b0881735b1f9285054f",
        "deepnote_cell_type": "text-cell-p",
        "id": "F3o501fZMk0Q"
      },
      "source": [
        "Lasst uns hier alle Variablen sammeln.\n",
        "\n",
        "- df: original and uncleaned \"investment_VC.csv\" dataset\n",
        "- df_clean: XXX\n",
        "\n"
      ]
    },
    {
      "cell_type": "code",
      "metadata": {
        "source_hash": "2ca7a677",
        "execution_start": 1711898792135,
        "execution_millis": 1044,
        "deepnote_to_be_reexecuted": false,
        "cell_id": "d365445ca412429288f72ad1d38b168a",
        "deepnote_cell_type": "code",
        "id": "Eb9UA2pXMk0Q"
      },
      "source": [
        "# Investments\n",
        "df = pd.read_csv(\"investments_VC.csv\", encoding='ISO-8859-1')"
      ],
      "execution_count": null,
      "outputs": []
    },
    {
      "cell_type": "code",
      "metadata": {
        "source_hash": "70b4f74f",
        "execution_start": 1711898793183,
        "execution_millis": 24,
        "deepnote_to_be_reexecuted": false,
        "cell_id": "6e73fc3fadfa4d3aa908c52797ef5d23",
        "deepnote_cell_type": "code",
        "colab": {
          "base_uri": "https://localhost:8080/"
        },
        "id": "hmaqnaFyMk0R",
        "outputId": "b52f3413-c620-4767-b88f-37f5e6986880"
      },
      "source": [
        "# Inspect data set\n",
        "print(\"Investments shape is: \", df.shape)\n",
        "\n",
        "# Last row with data manually insepcted is 49.439 so there are a lot of rows read as NaN´s"
      ],
      "execution_count": null,
      "outputs": [
        {
          "output_type": "stream",
          "name": "stdout",
          "text": [
            "Investments shape is:  (12547, 39)\n"
          ]
        }
      ]
    },
    {
      "cell_type": "code",
      "source": [
        "from google.colab import drive\n",
        "drive.mount('/content/drive')"
      ],
      "metadata": {
        "id": "O030_tmgNLix"
      },
      "execution_count": null,
      "outputs": []
    },
    {
      "cell_type": "code",
      "metadata": {
        "source_hash": "245876d0",
        "execution_start": 1711898793211,
        "execution_millis": 217,
        "deepnote_to_be_reexecuted": false,
        "cell_id": "c7886147905741a89649613e0d19cc23",
        "deepnote_cell_type": "code",
        "id": "mFCugMAeMk0T"
      },
      "source": [
        "df.head(5)"
      ],
      "execution_count": null,
      "outputs": []
    },
    {
      "cell_type": "code",
      "metadata": {
        "source_hash": "8af3fbbf",
        "execution_start": 1711898793382,
        "execution_millis": 200,
        "deepnote_to_be_reexecuted": false,
        "cell_id": "88ba03f953bc48de92c2950ce977073f",
        "deepnote_cell_type": "code",
        "id": "AwZ2eWy8Mk0U"
      },
      "source": [
        "df.info()\n",
        "\n",
        "# Funding total usd is read as object instead of float/int, also data columns are not the right data type"
      ],
      "execution_count": null,
      "outputs": []
    },
    {
      "cell_type": "code",
      "metadata": {
        "source_hash": "b6eaefcc",
        "execution_start": 1711898793434,
        "execution_millis": 341,
        "deepnote_to_be_reexecuted": false,
        "cell_id": "12d19118d2ef468db807c694da859153",
        "deepnote_cell_type": "code",
        "id": "nFrppBnlMk0U"
      },
      "source": [
        "duplicates_count = df['permalink'].duplicated(keep=False).sum()\n",
        "print(f\"Number of duplicated entries in 'permalink' column: {duplicates_count}\")\n",
        "# High number of duplicates come from a lot of empty rows, which we need to drop"
      ],
      "execution_count": null,
      "outputs": []
    },
    {
      "cell_type": "markdown",
      "metadata": {
        "formattedRanges": [],
        "cell_id": "c6fcf05deff842aeae7da99133c0f0a3",
        "deepnote_cell_type": "text-cell-h3",
        "id": "821uEetQMk0V"
      },
      "source": [
        "### Analysing target column \"Status\""
      ]
    },
    {
      "cell_type": "code",
      "metadata": {
        "source_hash": "e0dd7433",
        "execution_start": 1711898793454,
        "execution_millis": 322,
        "deepnote_to_be_reexecuted": false,
        "cell_id": "773990e5830f4710b993593263774691",
        "deepnote_cell_type": "code",
        "id": "Mp7VkpzvMk0V"
      },
      "source": [
        "# Target Column is Status, therefore we inspect it\n",
        "\n",
        "status_counts = df['status'].value_counts(dropna=False)\n",
        "\n",
        "# NaN or any other value not matching 'acquired', 'closed', or 'operating' will be treated as 'error'\n",
        "check = len(df) - status_counts.get('acquired', 0) - status_counts.get('closed', 0) - status_counts.get('operating', 0)\n",
        "\n",
        "missing_values = df[\"status\"].isna().sum()\n",
        "\n",
        "other = check - missing_values\n",
        "\n",
        "# Display the counts\n",
        "print(f\"There are {status_counts.get('acquired', 0)} acquired companies\")\n",
        "print(f\"There are {status_counts.get('closed', 0)} closed companies\")\n",
        "print(f\"There are {status_counts.get('operating', 0)} operating companies\")\n",
        "print(f\"There are {missing_values} NaN values\")\n",
        "print(f\"There are {other} other values\")"
      ],
      "execution_count": null,
      "outputs": []
    },
    {
      "cell_type": "markdown",
      "metadata": {
        "formattedRanges": [],
        "cell_id": "7157ec1d526c4bb38b68a365ef677fe6",
        "deepnote_cell_type": "text-cell-h1",
        "id": "wbEsHb-rMk0V"
      },
      "source": [
        "# Data Cleaning"
      ]
    },
    {
      "cell_type": "markdown",
      "metadata": {
        "formattedRanges": [],
        "cell_id": "c4e19a3caa574cc0974a0265a2ce5585",
        "deepnote_cell_type": "text-cell-h3",
        "id": "egfsW2TSMk0V"
      },
      "source": [
        "### Deleting unnecessary columns"
      ]
    },
    {
      "cell_type": "code",
      "metadata": {
        "source_hash": "43214e6c",
        "execution_start": 1711898793482,
        "execution_millis": 294,
        "deepnote_to_be_reexecuted": false,
        "cell_id": "2665b41aed26410584277bb02ddec07b",
        "deepnote_cell_type": "code",
        "id": "g-lju2_lMk0W"
      },
      "source": [
        "# To reduce unnecessary and redundant data, we delete columns that are not relevant for model development\n",
        "\n",
        "#df.drop([\"permalink\", \"homepage_url\"], axis=1, inplace=True)"
      ],
      "execution_count": null,
      "outputs": []
    },
    {
      "cell_type": "markdown",
      "metadata": {
        "formattedRanges": [],
        "cell_id": "0f6cfa669f0a413493324fdbd817096f",
        "deepnote_cell_type": "text-cell-h3",
        "id": "wF2vDYccMk0W"
      },
      "source": [
        "### Cleaning columns"
      ]
    },
    {
      "cell_type": "code",
      "metadata": {
        "source_hash": "25be5939",
        "execution_start": 1711898793484,
        "execution_millis": 292,
        "deepnote_to_be_reexecuted": false,
        "cell_id": "11ebc22fd7a54a939d0f065fd5a9cce5",
        "deepnote_cell_type": "code",
        "id": "G9hxuxTTMk0W"
      },
      "source": [
        "# Clean numbers in funding_total_usd column\n",
        "\n",
        "# Ensure column names are trimmed\n",
        "df.columns = df.columns.str.strip()\n",
        "\n",
        "# Directly convert 'funding_total_usd' to a float, thereby also transforming \"-\" to NaN\n",
        "df['funding_total_usd'] = pd.to_numeric(df['funding_total_usd'].str.replace(',', ''), errors='coerce')\n",
        "\n",
        "df[\"funding_total_usd\"].dtype\n",
        "\n",
        "df.head(10)\n"
      ],
      "execution_count": null,
      "outputs": []
    },
    {
      "cell_type": "code",
      "metadata": {
        "source_hash": "ccf5106a",
        "execution_start": 1711898793716,
        "execution_millis": 230,
        "deepnote_to_be_reexecuted": false,
        "cell_id": "d571994b4cea441bb86d31437f6e935b",
        "deepnote_cell_type": "code",
        "id": "ftK5glaMMk0X"
      },
      "source": [
        "# Fix column names\n",
        "df.rename(columns={' market ': 'market', ' funding_total_usd ': 'funding_total_usd'}, inplace=True)"
      ],
      "execution_count": null,
      "outputs": []
    },
    {
      "cell_type": "code",
      "metadata": {
        "source_hash": "a401ccfd",
        "execution_start": 1711898793720,
        "execution_millis": 227,
        "deepnote_to_be_reexecuted": false,
        "cell_id": "661de59e490d4b0f838c98cf7c077a3c",
        "deepnote_cell_type": "code",
        "id": "Z8RjFJNsMk0X"
      },
      "source": [
        "# Turning all of our Date Columns into pd.datetime\n",
        "df['founded_at'] =  pd.to_datetime(df['founded_at'], format='%Y-%m-%d', errors = 'coerce')\n",
        "df['first_funding_at'] =  pd.to_datetime(df['first_funding_at'], format='%Y-%m-%d', errors = 'coerce')\n",
        "df['last_funding_at'] =  pd.to_datetime(df['last_funding_at'], format='%Y-%m-%d', errors = 'coerce')\n",
        "df['founded_year'] =  pd.to_datetime(df['founded_year'], format='%Y', errors = 'coerce')\n",
        "df['founded_month'] =  pd.to_datetime(df['founded_month'], format='%Y-%m', errors = 'coerce')"
      ],
      "execution_count": null,
      "outputs": []
    },
    {
      "cell_type": "code",
      "metadata": {
        "source_hash": "837c1e26",
        "execution_start": 1711898793798,
        "execution_millis": 170,
        "deepnote_to_be_reexecuted": false,
        "cell_id": "35fd9cc1c7bd48dbbeafb52c6e8d63a7",
        "deepnote_cell_type": "code",
        "id": "BfzyQf-jMk0X"
      },
      "source": [
        "# Cleaning the Market column, since it has unnecessary spaces\n",
        "df['market'] = df['market'].str.strip()"
      ],
      "execution_count": null,
      "outputs": []
    },
    {
      "cell_type": "markdown",
      "metadata": {
        "formattedRanges": [],
        "cell_id": "dc505de56e874db887ddb4fb754b94d3",
        "deepnote_cell_type": "text-cell-h3",
        "id": "O3saKnOHMk0X"
      },
      "source": [
        "### Check and drop NaN"
      ]
    },
    {
      "cell_type": "code",
      "metadata": {
        "source_hash": "43ce6704",
        "execution_start": 1711898793828,
        "execution_millis": 140,
        "deepnote_to_be_reexecuted": false,
        "cell_id": "a3cc98884c9744569780707fde9a12cc",
        "deepnote_cell_type": "code",
        "id": "Czsl348HMk0Y"
      },
      "source": [
        "# Count NaN values\n",
        "print(df[['name', 'market', 'funding_total_usd', 'country_code', 'founded_year', \"status\"]].isna().sum())\n",
        "\n",
        "# Since status is our target variable we will drop all NaN´s in this column\n",
        "cleaned_df = df.dropna(subset=[\"status\"])\n",
        "\n",
        "# Check if it worked\n",
        "print(\"Number of NaN: \", cleaned_df[\"status\"].isna().sum())"
      ],
      "execution_count": null,
      "outputs": []
    },
    {
      "cell_type": "code",
      "metadata": {
        "source_hash": "21a45caf",
        "execution_start": 1711898793932,
        "execution_millis": 37,
        "deepnote_table_state": {
          "sortBy": [],
          "filters": [],
          "pageSize": 10,
          "pageIndex": 0
        },
        "deepnote_table_loading": false,
        "deepnote_to_be_reexecuted": false,
        "cell_id": "0a6a0a5fe7054df9bf2cb1a0258a1dea",
        "deepnote_cell_type": "code",
        "id": "A1vVg4RJMk0Y"
      },
      "source": [
        "# Additionally we want to filter out all startups that have less than one funding round\n",
        "\n",
        "funding_round = df[['convertible_note','debt_financing', 'angel', 'grant', 'private_equity', 'post_ipo_equity',\n",
        "       'post_ipo_debt', 'secondary_market', 'product_crowdfunding', 'round_A','round_B',\n",
        "       'round_C', 'round_D', 'round_E', 'round_F', 'round_G','round_H']]\n",
        "\n",
        "funding_round\n",
        "\n",
        "# For the funding rounds will replace missing values with 0\n",
        "\n",
        "df[['convertible_note','debt_financing', 'angel', 'grant', 'private_equity', 'post_ipo_equity',\n",
        "       'post_ipo_debt', 'secondary_market', 'product_crowdfunding', 'round_A','round_B',\n",
        "       'round_C', 'round_D', 'round_E', 'round_F', 'round_G','round_H']].fillna(0)"
      ],
      "execution_count": null,
      "outputs": []
    },
    {
      "cell_type": "markdown",
      "metadata": {
        "formattedRanges": [],
        "cell_id": "7fedfa1603504118a143cfadae3c57ed",
        "deepnote_cell_type": "text-cell-h3",
        "id": "UMCrYJTZMk0Z"
      },
      "source": [
        "###\n",
        "Check duplicates again after cleaning empty rows"
      ]
    },
    {
      "cell_type": "code",
      "metadata": {
        "source_hash": "385ba128",
        "execution_start": 1711899205177,
        "execution_millis": 88,
        "deepnote_to_be_reexecuted": false,
        "cell_id": "f259f12ba6da48dba98030368972d508",
        "deepnote_cell_type": "code",
        "id": "aQpkTFTAMk0Z"
      },
      "source": [
        "cleaned_df.duplicated().sum()\n",
        "# After cleaning empty rows there are no duplicates"
      ],
      "execution_count": null,
      "outputs": []
    },
    {
      "cell_type": "markdown",
      "source": [
        "Check for outliers for funding_total_USD"
      ],
      "metadata": {
        "id": "UwDOgsaXhUdt"
      }
    },
    {
      "cell_type": "code",
      "source": [
        "Q1 = df['funding_total_usd'].quantile(0.25)\n",
        "Q3 = df['funding_total_usd'].quantile(0.75)\n",
        "IQR = Q3 - Q1\n",
        "\n",
        "# Define outliers as those beyond 1.5 times the IQR from the Q1 and Q3\n",
        "outliers_IQR = df[(df['funding_total_usd'] < (Q1 - 1.5 * IQR)) | (df['funding_total_usd'] > (Q3 + 1.5 * IQR))]\n",
        "\n",
        "# Calculate Z-scores to identify outliers\n",
        "z_scores = np.abs(stats.zscore(df['funding_total_usd']))\n",
        "outliers_Z = df[z_scores > 3]\n",
        "\n",
        "# Display the number of outliers detected by each method\n",
        "outliers_IQR_count = outliers_IQR.shape[0]\n",
        "outliers_Z_count = outliers_Z.shape[0]\n",
        "\n",
        "outliers_IQR_count, outliers_Z_count"
      ],
      "metadata": {
        "id": "4ON8PuvsjAQx"
      },
      "execution_count": null,
      "outputs": []
    },
    {
      "cell_type": "markdown",
      "metadata": {
        "formattedRanges": [],
        "cell_id": "10c76fb463ed47af94a33788c7169bed",
        "deepnote_cell_type": "text-cell-h1",
        "id": "ifFjDS-MMk0Z"
      },
      "source": [
        "# Exploratory Data Analysis"
      ]
    },
    {
      "cell_type": "code",
      "metadata": {
        "source_hash": "f49233b0",
        "execution_start": 1711899209204,
        "execution_millis": 42,
        "deepnote_to_be_reexecuted": false,
        "cell_id": "262e12c32658450b9c801d048f0b39c9",
        "deepnote_cell_type": "code",
        "id": "Wj3kXpbgMk0Z"
      },
      "source": [
        "import matplotlib.pyplot as plt\n",
        "import seaborn as sns"
      ],
      "execution_count": null,
      "outputs": []
    },
    {
      "cell_type": "markdown",
      "metadata": {
        "formattedRanges": [],
        "cell_id": "0ec8d36b205049f5bab8ba29ff564ffb",
        "deepnote_cell_type": "text-cell-h3",
        "id": "TrXBFx1KMk0Z"
      },
      "source": [
        "### Distribution of target variable \"Status\""
      ]
    },
    {
      "cell_type": "code",
      "metadata": {
        "source_hash": "b8f7d9d1",
        "execution_start": 1711899211679,
        "execution_millis": 70,
        "deepnote_to_be_reexecuted": false,
        "cell_id": "6e12af3f0b7b4677a0e870a3166eb712",
        "deepnote_cell_type": "code",
        "id": "VvJvWu12Mk0a"
      },
      "source": [
        "cleaned_df.groupby(\"status\").size()"
      ],
      "execution_count": null,
      "outputs": []
    },
    {
      "cell_type": "code",
      "metadata": {
        "source_hash": "4e9bebe0",
        "execution_start": 1711899212970,
        "execution_millis": 408,
        "deepnote_to_be_reexecuted": false,
        "cell_id": "e379297b088d4b40ae748f16f3399ac1",
        "deepnote_cell_type": "code",
        "id": "ADBrQcCcMk0a"
      },
      "source": [
        "# Create a count plot\n",
        "sns.countplot(x='status', data=cleaned_df)\n",
        "\n",
        "# Set the title and labels for the plot\n",
        "plt.title('Count of Statuses')\n",
        "plt.xlabel('Status')\n",
        "plt.ylabel('Count')\n",
        "\n",
        "# Display the plot\n",
        "plt.show()"
      ],
      "execution_count": null,
      "outputs": []
    },
    {
      "cell_type": "markdown",
      "metadata": {
        "formattedRanges": [],
        "cell_id": "04ced4bbfa974a2d996d0e0f27481fec",
        "deepnote_cell_type": "text-cell-p",
        "id": "MQxu_c8DMk0a"
      },
      "source": [
        "Explanation:\n",
        "- we can clearly see that operating status makes the largest chunk in this dataset (problem?) - maybe we need deeper look into operating status"
      ]
    },
    {
      "cell_type": "code",
      "metadata": {
        "source_hash": "c8321bc1",
        "execution_start": 1711899220362,
        "execution_millis": 40,
        "deepnote_to_be_reexecuted": false,
        "cell_id": "4f66288fb1bb45c6b6dffe85947e2b8d",
        "deepnote_cell_type": "code",
        "id": "QdOLdYBVMk0b"
      },
      "source": [
        "# Deep dive into operating status\n",
        "grouped = cleaned_df.groupby(\"status\")[\"round_A\"].count()"
      ],
      "execution_count": null,
      "outputs": []
    },
    {
      "cell_type": "code",
      "metadata": {
        "source_hash": "4608ad26",
        "execution_start": 1711899221585,
        "execution_millis": 469,
        "deepnote_to_be_reexecuted": false,
        "cell_id": "4f4bcd3b2eaf42d5823a6228a07c4848",
        "deepnote_cell_type": "code",
        "id": "GZN3T4lHMk0b"
      },
      "source": [
        "# First, group by 'status' and sum all the funding rounds\n",
        "grouped = cleaned_df.groupby('status')[['convertible_note',\n",
        "       'debt_financing', 'angel', 'grant', 'private_equity', 'post_ipo_equity',\n",
        "       'post_ipo_debt', 'secondary_market', 'product_crowdfunding', 'round_A',\n",
        "       'round_B', 'round_C', 'round_D', 'round_E', 'round_F', 'round_G',\n",
        "       'round_H']].sum()\n",
        "\n",
        "# Now plot a stacked bar chart\n",
        "grouped.transpose().plot(kind='bar', stacked=True)\n",
        "\n",
        "# Set the title and labels for the plot\n",
        "plt.title('Composition of Operating Status by Funding Round')\n",
        "plt.xlabel('Funding Round')\n",
        "plt.ylabel('Amount')\n",
        "\n",
        "# Display the plot\n",
        "plt.show()"
      ],
      "execution_count": null,
      "outputs": []
    },
    {
      "cell_type": "markdown",
      "metadata": {
        "tags": [],
        "cell_id": "36f0f11857c149b49c0c831e960ada13",
        "deepnote_cell_type": "markdown",
        "id": "mcvViN0SMk0b"
      },
      "source": [
        "## Feature engineering\n",
        "Creating good features is probably the most important step in the machine learning process.\n",
        "This might involve doing:\n",
        "- transformations\n",
        "- aggregating over data points or over time and space, or finding differences (for example: differences between two monthly bills, time difference between two contacts with the client)\n",
        "- creating dummy (binary) variables\n",
        "- discretization\n",
        "\n",
        "Business insight is very relevant in this process.\n",
        "\n",
        "\n",
        "For the midterm submission, you should do all the pre-processing necessary for the model that you selected (for example encoding of categorical variables, scaling), and test at least one feature selection method (if the feature selection does not help, still show that you tried it out).\n",
        "\n",
        "For the final submission you should try different approaches for feature scaling, feature selection,...\n",
        "If it is possible you can also find additional relevant data."
      ]
    },
    {
      "cell_type": "code",
      "metadata": {
        "source_hash": "ea4ed2fd",
        "execution_start": 1711899887014,
        "execution_millis": 64,
        "deepnote_to_be_reexecuted": false,
        "cell_id": "96f584733a984834a78d349149374fb5",
        "deepnote_cell_type": "code",
        "id": "n3AVsNXXMk0s"
      },
      "source": [
        "#creating a copy of the dataset\n",
        "\n",
        "df1 = df.copy()"
      ],
      "execution_count": null,
      "outputs": []
    },
    {
      "cell_type": "code",
      "source": [
        "df1.isnull().sum()"
      ],
      "metadata": {
        "id": "urlludM_nj2M"
      },
      "execution_count": null,
      "outputs": []
    },
    {
      "cell_type": "code",
      "source": [
        "df1 = df1.dropna(subset=['permalink', 'status', 'name', 'market', 'country_code'])"
      ],
      "metadata": {
        "id": "AER776Pinh9S"
      },
      "execution_count": null,
      "outputs": []
    },
    {
      "cell_type": "code",
      "source": [
        "df1.isnull().sum()"
      ],
      "metadata": {
        "id": "iJHVKybvnkUR"
      },
      "execution_count": null,
      "outputs": []
    },
    {
      "cell_type": "code",
      "source": [
        "df1 = df1.drop(columns= ['homepage_url', 'category_list', 'state_code', 'founded_at', 'founded_month', 'founded_quarter', 'founded_year', 'city', 'region', 'first_funding_at', 'last_funding_at'])"
      ],
      "metadata": {
        "id": "KSnTw3wrnk82"
      },
      "execution_count": null,
      "outputs": []
    },
    {
      "cell_type": "markdown",
      "source": [
        "### Industry Mapping"
      ],
      "metadata": {
        "id": "bR11YgxZr2d2"
      }
    },
    {
      "cell_type": "code",
      "metadata": {
        "source_hash": "c76c7c51",
        "execution_start": 1711899228237,
        "execution_millis": 66,
        "deepnote_to_be_reexecuted": false,
        "cell_id": "b31213340270426e92d818796fb8e6dc",
        "deepnote_cell_type": "code",
        "id": "OTkjJlDKMk0s"
      },
      "source": [
        "import re"
      ],
      "execution_count": null,
      "outputs": []
    },
    {
      "cell_type": "code",
      "source": [
        "# grouping markets in industries to decrease the number of segments. The list was being taken from here https://support.crunchbase.com/hc/en-us/articles/360043146954-What-Industries-are-included-in-Crunchbase-\n",
        "admin_services = str('Employer Benefits Programs, Human Resource Automation, Corporate IT, Distribution, Service Providers, Archiving Service, Call Center, Collection Agency, College Recruiting, Courier Service, Debt Collections, Delivery, Document Preparation, Employee Benefits, Extermination Service, Facilities Support Services, Housekeeping Service, Human Resources, Knowledge Management, Office Administration, Packaging Services, Physical Security, Project Management, Staffing Agency, Trade Shows, Virtual Workforce').split(', ')\n",
        "advertising = str('Creative Industries, Promotional, Advertising Ad Exchange, Ad Network, Ad Retargeting, Ad Server, Ad Targeting, Advertising, Advertising Platforms, Affiliate Marketing, Local Advertising, Mobile Advertising, Outdoor Advertising, SEM, Social Media Advertising, Video Advertising').split(', ')\n",
        "agriculture = str('Agriculture, AgTech, Animal Feed, Aquaculture, Equestrian, Farming, Forestry, Horticulture, Hydroponics, Livestock').split(', ')\n",
        "app = str('Application Performance Monitoring, App Stores, Application Platforms, Enterprise Application, App Discovery, Apps, Consumer Applications, Enterprise Applications, Mobile Apps, Reading Apps, Web Apps').split(', ')\n",
        "artificial_intelli = str('Artificial Intelligence, Intelligent Systems, Machine Learning, Natural Language Processing, Predictive Analytics').split(', ')\n",
        "biotechnology = str('Synthetic Biology, Bio-Pharm, Bioinformatics, Biometrics, Biopharma, Biotechnology, Genetics, Life Science, Neuroscience, Quantified Self').split(', ')\n",
        "clothing = str('Fashion, Laundry and Dry-cleaning, Lingerie, Shoes').split(', ')\n",
        "shopping = str('Consumer Behavior, Customer Support Tools, Discounts, Reviews and Recommendations, Auctions, Classifieds, Collectibles, Consumer Reviews, Coupons, E-Commerce, E-Commerce Platforms, Flash Sale, Gift, Gift Card, Gift Exchange, Gift Registry, Group Buying, Local Shopping, Made to Order, Marketplace, Online Auctions, Personalization, Point of Sale, Price Comparison, Rental, Retail, Retail Technology, Shopping, Shopping Mall, Social Shopping, Sporting Goods, Vending and Concessions, Virtual Goods, Wholesale').split(', ')\n",
        "community = str(\"Self Development, Sex, Forums, Match-Making, Babies, Identity, Women, Kids, Entrepreneur, Networking, Adult, Baby, Cannabis, Children, Communities, Dating, Elderly, Family, Funerals, Humanitarian, Leisure, LGBT, Lifestyle, Men's, Online Forums, Parenting, Pet, Private Social Networking, Professional Networking, Q&A, Religion, Retirement, Sex Industry, Sex Tech, Social, Social Entrepreneurship, Teenagers, Virtual World, Wedding, Women's, Young Adults\").split(', ')\n",
        "electronics  = str('Mac, iPod Touch, Tablets, iPad, iPhone, Computer, Consumer Electronics, Drones, Electronics, Google Glass, Mobile Devices, Nintendo, Playstation, Roku, Smart Home, Wearables, Windows Phone, Xbox').split(', ')\n",
        "consumer_goods= str('Commodities, Sunglasses, Groceries, Batteries, Cars, Beauty, Comics, Consumer Goods, Cosmetics, DIY, Drones, Eyewear, Fast-Moving Consumer Goods, Flowers, Furniture, Green Consumer Goods, Handmade, Jewelry, Lingerie, Shoes, Tobacco, Toys').split(', ')\n",
        "content = str('E-Books, MicroBlogging, Opinions, Blogging Platforms, Content Delivery Network, Content Discovery, Content Syndication, Creative Agency, DRM, EBooks, Journalism, News, Photo Editing, Photo Sharing, Photography, Printing, Publishing, Social Bookmarking, Video Editing, Video Streaming').split(', ')\n",
        "data = str('Optimization, A/B Testing, Analytics, Application Performance Management, Artificial Intelligence, Big Data, Bioinformatics, Biometrics, Business Intelligence, Consumer Research, Data Integration, Data Mining, Data Visualization, Database, Facial Recognition, Geospatial, Image Recognition, Intelligent Systems, Location Based Services, Machine Learning, Market Research, Natural Language Processing, Predictive Analytics, Product Research, Quantified Self, Speech Recognition, Test and Measurement, Text Analytics, Usability Testing').split(', ')\n",
        "design = str('Visualization, Graphics, Design, Designers, CAD, Consumer Research, Data Visualization, Fashion, Graphic Design, Human Computer Interaction, Industrial Design, Interior Design, Market Research, Mechanical Design, Product Design, Product Research, Usability Testing, UX Design, Web Design').split(', ')\n",
        "education = str('Universities, College Campuses, University Students, High Schools, All Students, Colleges, Alumni, Charter Schools, College Recruiting, Continuing Education, Corporate Training, E-Learning, EdTech, Education, Edutainment, Higher Education, Language Learning, MOOC, Music Education, Personal Development, Primary Education, Secondary Education, Skill Assessment, STEM Education, Textbook, Training, Tutoring, Vocational Education').split(', ')\n",
        "energy = str('Gas, Natural Gas Uses, Oil, Oil & Gas, Battery, Biofuel, Biomass Energy, Clean Energy, Electrical Distribution, Energy, Energy Efficiency, Energy Management, Energy Storage, Fossil Fuels, Fuel, Fuel Cell, Oil and Gas, Power Grid, Renewable Energy, Solar, Wind Energy').split(', ')\n",
        "events = str('Concerts, Event Management, Event Promotion, Events, Nightclubs, Nightlife, Reservations, Ticketing, Wedding').split(', ')\n",
        "financial = str('Debt Collecting, P2P Money Transfer, Investment Management, Trading, Accounting, Angel Investment, Asset Management, Auto Insurance, Banking, Bitcoin, Commercial Insurance, Commercial Lending, Consumer Lending, Credit, Credit Bureau, Credit Cards, Crowdfunding, Cryptocurrency, Debit Cards, Debt Collections, Finance, Financial Exchanges, Financial Services, FinTech, Fraud Detection, Funding Platform, Gift Card, Health Insurance, Hedge Funds, Impact Investing, Incubators, Insurance, InsurTech, Leasing, Lending, Life Insurance, Micro Lending, Mobile Payments, Payments, Personal Finance, Prediction Markets, Property Insurance, Real Estate Investment, Stock Exchanges, Trading Platform, Transaction Processing, Venture Capital, Virtual Currency, Wealth Management').split(', ')\n",
        "food = str('Specialty Foods, Bakery, Brewing, Cannabis, Catering, Coffee, Confectionery, Cooking, Craft Beer, Dietary Supplements, Distillery, Farmers Market, Food and Beverage, Food Delivery, Food Processing, Food Trucks, Fruit, Grocery, Nutrition, Organic Food, Recipes, Restaurants, Seafood, Snack Food, Tea, Tobacco, Wine And Spirits, Winery').split(', ')\n",
        "gaming = str('Game, Games, Casual Games, Console Games, Contests, Fantasy Sports, Gambling, Gamification, Gaming, MMO Games, Online Games, PC Games, Serious Games, Video Games').split(', ')\n",
        "government = str('Polling, Governance, CivicTech, Government, GovTech, Law Enforcement, Military, National Security, Politics, Public Safety, Social Assistance').split(', ')\n",
        "hardware= str('Cable, 3D, 3D Technology, Application Specific Integrated Circuit (ASIC), Augmented Reality, Cloud Infrastructure, Communication Hardware, Communications Infrastructure, Computer, Computer Vision, Consumer Electronics, Data Center, Data Center Automation, Data Storage, Drone Management, Drones, DSP, Electronic Design Automation (EDA), Electronics, Embedded Systems, Field-Programmable Gate Array (FPGA), Flash Storage, Google Glass, GPS, GPU, Hardware, Industrial Design, Laser, Lighting, Mechanical Design, Mobile Devices, Network Hardware, NFC, Nintendo, Optical Communication, Playstation, Private Cloud, Retail Technology, RFID, RISC, Robotics, Roku, Satellite Communication, Semiconductor, Sensor, Sex Tech, Telecommunications, Video Conferencing, Virtual Reality, Virtualization, Wearables, Windows Phone, Wireless, Xbox').split(', ')\n",
        "health_care = str('Senior Health, Physicians, Electronic Health Records, Doctors, Healthcare Services, Diagnostics, Alternative Medicine, Assisted Living, Assistive Technology, Biopharma, Cannabis, Child Care, Clinical Trials, Cosmetic Surgery, Dental, Diabetes, Dietary Supplements, Elder Care, Electronic Health Record (EHR), Emergency Medicine, Employee Benefits, Fertility, First Aid, Funerals, Genetics, Health Care, Health Diagnostics, Home Health Care, Hospital, Medical, Medical Device, mHealth, Nursing and Residential Care, Nutraceutical, Nutrition, Outpatient Care, Personal Health, Pharmaceutical, Psychology, Rehabilitation, Therapeutics, Veterinary, Wellness').split(', ')\n",
        "it = str('Distributors, Algorithms, ICT, M2M, Technology, Business Information Systems, CivicTech, Cloud Data Services, Cloud Management, Cloud Security, CMS, Contact Management, CRM, Cyber Security, Data Center, Data Center Automation, Data Integration, Data Mining, Data Visualization, Document Management, E-Signature, Email, GovTech, Identity Management, Information and Communications Technology (ICT), Information Services, Information Technology, Intrusion Detection, IT Infrastructure, IT Management, Management Information Systems, Messaging, Military, Network Security, Penetration Testing, Private Cloud, Reputation, Sales Automation, Scheduling, Social CRM, Spam Filtering, Technical Support, Unified Communications, Video Chat, Video Conferencing, Virtualization, VoIP').split(', ')\n",
        "internet = str('Online Identity, Cyber, Portals, Web Presence Management, Domains, Tracking, Web Tools, Curated Web, Search, Cloud Computing, Cloud Data Services, Cloud Infrastructure, Cloud Management, Cloud Storage, Darknet, Domain Registrar, E-Commerce Platforms, Ediscovery, Email, Internet, Internet of Things, ISP, Location Based Services, Messaging, Music Streaming, Online Forums, Online Portals, Private Cloud, Product Search, Search Engine, SEM, Semantic Search, Semantic Web, SEO, SMS, Social Media, Social Media Management, Social Network, Unified Communications, Vertical Search, Video Chat, Video Conferencing, Visual Search, VoIP, Web Browsers, Web Hosting').split(', ')\n",
        "invest = str('Angel Investment, Banking, Commercial Lending, Consumer Lending, Credit, Credit Cards, Financial Exchanges, Funding Platform, Hedge Funds, Impact Investing, Incubators, Micro Lending, Stock Exchanges, Trading Platform, Venture Capital').split(', ')\n",
        "manufacturing = str('Innovation Engineering, Civil Engineers, Heavy Industry, Engineering Firms, Systems, 3D Printing, Advanced Materials, Foundries, Industrial, Industrial Automation, Industrial Engineering, Industrial Manufacturing, Machinery Manufacturing, Manufacturing, Paper Manufacturing, Plastics and Rubber Manufacturing, Textiles, Wood Processing').split(', ')\n",
        "media = str('Writers, Creative, Television, Entertainment, Media, Advice, Animation, Art, Audio, Audiobooks, Blogging Platforms, Broadcasting, Celebrity, Concerts, Content, Content Creators, Content Discovery, Content Syndication, Creative Agency, Digital Entertainment, Digital Media, DRM, EBooks, Edutainment, Event Management, Event Promotion, Events, Film, Film Distribution, Film Production, Guides, In-Flight Entertainment, Independent Music, Internet Radio, Journalism, Media and Entertainment, Motion Capture, Music, Music Education, Music Label, Music Streaming, Music Venues, Musical Instruments, News, Nightclubs, Nightlife, Performing Arts, Photo Editing, Photo Sharing, Photography, Podcast, Printing, Publishing, Reservations, Social Media, Social News, Theatre, Ticketing, TV, TV Production, Video, Video Editing, Video on Demand, Video Streaming, Virtual World').split(', ')\n",
        "message = str('Unifed Communications, Chat, Email, Meeting Software, Messaging, SMS, Unified Communications, Video Chat, Video Conferencing, VoIP, Wired Telecommunications').split(', ')\n",
        "mobile = str('Android, Google Glass, iOS, mHealth, Mobile, Mobile Apps, Mobile Devices, Mobile Payments, Windows Phone, Wireless').split(', ')\n",
        "music = str('Audio, Audiobooks, Independent Music, Internet Radio, Music, Music Education, Music Label, Music Streaming, Musical Instruments, Podcast').split(', ')\n",
        "resource = str('Biofuel, Biomass Energy, Fossil Fuels, Mineral, Mining, Mining Technology, Natural Resources, Oil and Gas, Precious Metals, Solar, Timber, Water, Wind Energy').split(', ')\n",
        "navigation = str('Maps, Geospatial, GPS, Indoor Positioning, Location Based Services, Mapping Services, Navigation').split(', ')\n",
        "other = str('Mass Customization, Monetization, Testing, Subscription Businesses, Mobility, Incentives, Peer-to-Peer, Nonprofits, Alumni, Association, B2B, B2C, Blockchain, Charity, Collaboration, Collaborative Consumption, Commercial, Consumer, Crowdsourcing, Customer Service, Desktop Apps, Emerging Markets, Enterprise, Ethereum, Franchise, Freemium, Generation Y, Generation Z, Homeless Shelter, Infrastructure, Knowledge Management, LGBT Millennials, Non Profit, Peer to Peer, Professional Services, Project Management, Real Time, Retirement, Service Industry, Sharing Economy, Small and Medium Businesses, Social Bookmarking, Social Impact, Subscription Service, Technical Support, Underserved Children, Universities').split(', ')\n",
        "payment = str('Billing, Bitcoin, Credit Cards, Cryptocurrency, Debit Cards, Fraud Detection, Mobile Payments, Payments, Transaction Processing, Virtual Currency').split(', ')\n",
        "platforms = str('Development Platforms, Android, Facebook, Google, Google Glass, iOS, Linux, macOS, Nintendo, Operating Systems, Playstation, Roku, Tizen, Twitter, WebOS, Windows, Windows Phone, Xbox').split(', ')\n",
        "privacy = str('Digital Rights Management, Personal Data, Cloud Security, Corrections Facilities, Cyber Security, DRM, E-Signature, Fraud Detection, Homeland Security, Identity Management, Intrusion Detection, Law Enforcement, Network Security, Penetration Testing, Physical Security, Privacy, Security').split(', ')\n",
        "services = str('Funeral Industry, English-Speaking, Spas, Plumbers, Service Industries, Staffing Firms, Translation, Career Management, Business Services, Services, Accounting, Business Development, Career Planning, Compliance, Consulting, Customer Service, Employment, Environmental Consulting, Field Support, Freelance, Intellectual Property, Innovation Management, Legal, Legal Tech, Management Consulting, Outsourcing, Professional Networking, Quality Assurance, Recruiting, Risk Management, Social Recruiting, Translation Service').split(', ')\n",
        "realestate= str('Office Space, Self Storage, Brokers, Storage, Home Owners, Self Storage , Realtors, Home & Garden, Utilities, Home Automation, Architecture, Building Maintenance, Building Material, Commercial Real Estate, Construction, Coworking, Facility Management, Fast-Moving Consumer Goods, Green Building, Home and Garden, Home Decor, Home Improvement, Home Renovation, Home Services, Interior Design, Janitorial Service, Landscaping, Property Development, Property Management, Real Estate, Real Estate Investment, Rental Property, Residential, Self-Storage, Smart Building, Smart Cities, Smart Home, Timeshare, Vacation Rental').split(', ')\n",
        "sales = str('Advertising, Affiliate Marketing, App Discovery, App Marketing, Brand Marketing, Cause Marketing, Content Marketing, CRM, Digital Marketing, Digital Signage, Direct Marketing, Direct Sales, Email Marketing, Lead Generation, Lead Management, Local, Local Advertising, Local Business, Loyalty Programs, Marketing, Marketing Automation, Mobile Advertising, Multi-level Marketing, Outdoor Advertising, Personal Branding, Public Relations, Sales, Sales Automation, SEM, SEO, Social CRM, Social Media Advertising, Social Media Management, Social Media Marketing, Sponsorship, Video Advertising').split(', ')\n",
        "science = str('Face Recognition, New Technologies, Advanced Materials, Aerospace, Artificial Intelligence, Bioinformatics, Biometrics, Biopharma, Biotechnology, Chemical, Chemical Engineering, Civil Engineering, Embedded Systems, Environmental Engineering, Human Computer Interaction, Industrial Automation, Industrial Engineering, Intelligent Systems, Laser, Life Science, Marine Technology, Mechanical Engineering, Nanotechnology, Neuroscience, Nuclear, Quantum Computing, Robotics, Semiconductor, Software Engineering, STEM Education').split(', ')\n",
        "software = str('Business Productivity, 3D Technology, Android, App Discovery, Application Performance Management, Apps, Artificial Intelligence, Augmented Reality, Billing, Bitcoin, Browser Extensions, CAD, Cloud Computing, Cloud Management, CMS, Computer Vision, Consumer Applications, Consumer Software, Contact Management, CRM, Cryptocurrency, Data Center Automation, Data Integration, Data Storage, Data Visualization, Database, Developer APIs, Developer Platform, Developer Tools, Document Management, Drone Management, E-Learning, EdTech, Electronic Design Automation (EDA), Embedded Software, Embedded Systems, Enterprise Applications, Enterprise Resource Planning (ERP), Enterprise Software, Facial Recognition, File Sharing, IaaS, Image Recognition, iOS, Linux, Machine Learning, macOS, Marketing Automation, Meeting Software, Mobile Apps, Mobile Payments, MOOC, Natural Language Processing, Open Source, Operating Systems, PaaS, Predictive Analytics, Presentation Software, Presentations, Private Cloud, Productivity Tools, QR Codes, Reading Apps, Retail Technology, Robotics, SaaS, Sales Automation, Scheduling, Sex Tech, Simulation, SNS, Social CRM, Software, Software Engineering, Speech Recognition, Task Management, Text Analytics, Transaction Processing, Video Conferencing, Virtual Assistant, Virtual Currency, Virtual Desktop, Virtual Goods, Virtual Reality, Virtual World, Virtualization, Web Apps, Web Browsers, Web Development').split(', ')\n",
        "sports = str('American Football, Baseball, Basketball, Boating, Cricket, Cycling, Diving, eSports, Fantasy Sports, Fitness, Golf, Hockey, Hunting, Outdoors, Racing, Recreation, Rugby, Sailing, Skiing, Soccer, Sporting Goods, Sports, Surfing, Swimming, Table Tennis, Tennis, Ultimate Frisbee, Volley Ball').split(', ')\n",
        "sustainability = str('Green, Wind, Biomass Power Generation, Renewable Tech, Environmental Innovation, Renewable Energies, Clean Technology, Biofuel, Biomass Energy, Clean Energy, CleanTech, Energy Efficiency, Environmental Engineering, Green Building, Green Consumer Goods, GreenTech, Natural Resources, Organic, Pollution Control, Recycling, Renewable Energy, Solar, Sustainability, Waste Management, Water Purification, Wind Energy').split(', ')\n",
        "transportation = str('Taxis, Air Transportation, Automotive, Autonomous Vehicles, Car Sharing, Courier Service, Delivery Service, Electric Vehicle, Ferry Service, Fleet Management, Food Delivery, Freight Service, Last Mile Transportation, Limousine Service, Logistics, Marine Transportation, Parking, Ports and Harbors, Procurement, Public Transportation, Railroad, Recreational Vehicles, Ride Sharing, Same Day Delivery, Shipping, Shipping Broker, Space Travel, Supply Chain Management, Taxi Service, Transportation, Warehousing, Water Transportation').split(', ')\n",
        "travel = str('Adventure Travel, Amusement Park and Arcade, Business Travel, Casino, Hospitality, Hotel, Museums and Historical Sites, Parks, Resorts, Timeshare, Tour Operator, Tourism, Travel, Travel Accommodations, Travel Agency, Vacation Rental').split(', ')\n",
        "video = str('Animation, Broadcasting, Film, Film Distribution, Film Production, Motion Capture, TV, TV Production, Video, Video Editing, Video on Demand, Video Streaming').split(', ')"
      ],
      "metadata": {
        "id": "ic5yTimoR-Wq"
      },
      "execution_count": null,
      "outputs": []
    },
    {
      "cell_type": "code",
      "metadata": {
        "source_hash": "6525633d",
        "execution_start": 1711899914938,
        "execution_millis": 480,
        "deepnote_to_be_reexecuted": false,
        "cell_id": "28171ae9fae449d992a10d41399c29b3",
        "deepnote_cell_type": "code",
        "id": "Nlaf7KJ9Mk0t"
      },
      "source": [
        "#Making new column called  Industry group\n",
        "df1['Industry_Group'] = pd.np.where(df1.market.str.contains('|'.join(admin_services), flags=re.IGNORECASE), \"Administrative Services\",\n",
        "                               pd.np.where(df1.market.str.contains('|'.join(software), flags=re.IGNORECASE), \"Software\",\n",
        "                               pd.np.where(df1.market.str.contains('|'.join(advertising), flags=re.IGNORECASE), \"Advertising\",\n",
        "                               pd.np.where(df1.market.str.contains('|'.join(agriculture), flags=re.IGNORECASE), \"Agriculture and Farming\",\n",
        "                               pd.np.where(df1.market.str.contains('|'.join(app), flags=re.IGNORECASE), \"Apps\",\n",
        "                               pd.np.where(df1.market.str.contains('|'.join(artificial_intelli), flags=re.IGNORECASE), \"Artificial Intelligence\",\n",
        "                               pd.np.where(df1.market.str.contains('|'.join(biotechnology), flags=re.IGNORECASE), \"Biotechnology\",\n",
        "                               pd.np.where(df1.market.str.contains('|'.join(clothing), flags=re.IGNORECASE), \"Clothing and Apparel\",\n",
        "                               pd.np.where(df1.market.str.contains('|'.join(shopping), flags=re.IGNORECASE), \"Commerce and Shopping\",\n",
        "                               pd.np.where(df1.market.str.contains('|'.join(community), flags=re.IGNORECASE), \"Community and Lifestyle\",\n",
        "                               pd.np.where(df1.market.str.contains('|'.join(electronics), flags=re.IGNORECASE), \"Consumer Electronics\",\n",
        "                               pd.np.where(df1.market.str.contains('|'.join(consumer_goods), flags=re.IGNORECASE), \"Consumer Goods\",\n",
        "                               pd.np.where(df1.market.str.contains('|'.join(content), flags=re.IGNORECASE), \"Content and Publishing\",\n",
        "                               pd.np.where(df1.market.str.contains('|'.join(data), flags=re.IGNORECASE), \"Data and Analytics\",\n",
        "                               pd.np.where(df1.market.str.contains('|'.join(design), flags=re.IGNORECASE), \"Design\",\n",
        "                               pd.np.where(df1.market.str.contains('|'.join(education), flags=re.IGNORECASE), \"Education\",\n",
        "                               pd.np.where(df1.market.str.contains('|'.join(energy), flags=re.IGNORECASE), \"Energy\",\n",
        "                               pd.np.where(df1.market.str.contains('|'.join(events), flags=re.IGNORECASE), \"Events\",\n",
        "                               pd.np.where(df1.market.str.contains('|'.join(financial), flags=re.IGNORECASE), \"Financial Services\",\n",
        "                               pd.np.where(df1.market.str.contains('|'.join(food), flags=re.IGNORECASE), \"Food and Beverage\",\n",
        "                               pd.np.where(df1.market.str.contains('|'.join(gaming), flags=re.IGNORECASE), \"Gaming\",\n",
        "                               pd.np.where(df1.market.str.contains('|'.join(government), flags=re.IGNORECASE), \"Government and Military\",\n",
        "                               pd.np.where(df1.market.str.contains('|'.join(hardware), flags=re.IGNORECASE), \"Hardware\",\n",
        "                               pd.np.where(df1.market.str.contains('|'.join(health_care), flags=re.IGNORECASE), \"Health Care\",\n",
        "                               pd.np.where(df1.market.str.contains('|'.join(it), flags=re.IGNORECASE), \"Information Technology\",\n",
        "                               pd.np.where(df1.market.str.contains('|'.join(internet), flags=re.IGNORECASE), \"Internet Services\",\n",
        "                               pd.np.where(df1.market.str.contains('|'.join(invest), flags=re.IGNORECASE), \"Lending and Investments\",\n",
        "                               pd.np.where(df1.market.str.contains('|'.join(manufacturing), flags=re.IGNORECASE), \"Manufacturing\",\n",
        "                               pd.np.where(df1.market.str.contains('|'.join(media), flags=re.IGNORECASE), \"Media and Entertainment\",\n",
        "                               pd.np.where(df1.market.str.contains('|'.join(message), flags=re.IGNORECASE), \"Messaging and Telecommunication\",\n",
        "                               pd.np.where(df1.market.str.contains('|'.join(mobile), flags=re.IGNORECASE), \"Mobile\",\n",
        "                               pd.np.where(df1.market.str.contains('|'.join(music), flags=re.IGNORECASE), \"Music and Audio\",\n",
        "                               pd.np.where(df1.market.str.contains('|'.join(resource), flags=re.IGNORECASE), \"Natural Resources\",\n",
        "                               pd.np.where(df1.market.str.contains('|'.join(navigation), flags=re.IGNORECASE), \"Navigation and Mapping\",\n",
        "                               pd.np.where(df1.market.str.contains('|'.join(payment), flags=re.IGNORECASE), \"Payments\",\n",
        "                               pd.np.where(df1.market.str.contains('|'.join(platforms), flags=re.IGNORECASE), \"Platforms\",\n",
        "                               pd.np.where(df1.market.str.contains('|'.join(privacy), flags=re.IGNORECASE), \"Privacy and Security\",\n",
        "                               pd.np.where(df1.market.str.contains('|'.join(services), flags=re.IGNORECASE), \"Professional Services\",\n",
        "                               pd.np.where(df1.market.str.contains('|'.join(realestate), flags=re.IGNORECASE), \"Real Estate\",\n",
        "                               pd.np.where(df1.market.str.contains('|'.join(sales), flags=re.IGNORECASE), \"Sales and Marketing\",\n",
        "                               pd.np.where(df1.market.str.contains('|'.join(science), flags=re.IGNORECASE), \"Science and Engineering\",\n",
        "                               pd.np.where(df1.market.str.contains('|'.join(sports), flags=re.IGNORECASE), \"Sports\",\n",
        "                               pd.np.where(df1.market.str.contains('|'.join(sustainability), flags=re.IGNORECASE), \"Sustainability\",\n",
        "                               pd.np.where(df1.market.str.contains('|'.join(transportation), flags=re.IGNORECASE), \"Transportation\",\n",
        "                               pd.np.where(df1.market.str.contains('|'.join(travel), flags=re.IGNORECASE), \"Travel and Tourism\",\n",
        "                               pd.np.where(df1.market.str.contains('|'.join(video), flags=re.IGNORECASE), \"Video\",\n",
        "                               pd.np.where(df1.market.str.contains('|'.join(other), flags=re.IGNORECASE), \"Other\",  \"Other\")))))))))))))))))))))))))))))))))))))))))))))))"
      ],
      "execution_count": null,
      "outputs": []
    },
    {
      "cell_type": "code",
      "metadata": {
        "source_hash": "b623e53d",
        "execution_start": 1711899779174,
        "execution_millis": 202,
        "deepnote_to_be_reexecuted": false,
        "cell_id": "fcebff5e0e8e43bda2078ba33f6d7cd6",
        "deepnote_cell_type": "code",
        "id": "s0uMvpROMk0t"
      },
      "source": [
        "pd.DataFrame(df1['Industry_Group'].unique())"
      ],
      "execution_count": null,
      "outputs": []
    },
    {
      "cell_type": "code",
      "metadata": {
        "source_hash": "b623e53d",
        "execution_start": 1711899230679,
        "execution_millis": 33,
        "deepnote_to_be_reexecuted": false,
        "cell_id": "bc3b188fffb24eea98d84f7437cba374",
        "deepnote_cell_type": "code",
        "id": "XcIeH-i0Mk0t"
      },
      "source": [
        "print(\"Number of unique industries:\", df1['Industry_Group'].nunique())"
      ],
      "execution_count": null,
      "outputs": []
    },
    {
      "cell_type": "code",
      "metadata": {
        "source_hash": "b623e53d",
        "deepnote_to_be_reexecuted": true,
        "cell_id": "f7e5a422677c446b9ca01f04848137d6",
        "deepnote_cell_type": "code",
        "id": "GGsDl-thMk0t"
      },
      "source": [
        "df1.groupby('Industry_Group').size().sort_values(ascending = False).reset_index()"
      ],
      "execution_count": null,
      "outputs": []
    },
    {
      "cell_type": "markdown",
      "source": [
        "### Country Mapping"
      ],
      "metadata": {
        "id": "C57xkrrarqHK"
      }
    },
    {
      "cell_type": "code",
      "metadata": {
        "source_hash": "9b5e1c0c",
        "execution_start": 1711896597135,
        "execution_millis": 162,
        "deepnote_to_be_reexecuted": true,
        "cell_id": "b9f36ecaeb8c42a79215763ab9d1705d",
        "deepnote_cell_type": "code",
        "id": "PbC-t6yvMk0u"
      },
      "source": [
        "country = pd.read_csv('continents2.csv')\n",
        "country.rename(columns = {\"region\": \"continent\"}, inplace = True)\n",
        "country = country[['continent', 'alpha-3']]"
      ],
      "execution_count": null,
      "outputs": []
    },
    {
      "cell_type": "code",
      "metadata": {
        "source_hash": "8697b218",
        "execution_start": 1711896599590,
        "execution_millis": 93,
        "deepnote_to_be_reexecuted": true,
        "cell_id": "d74df820b5644a309875a907d87c8f1f",
        "deepnote_cell_type": "code",
        "id": "GAC89xwuMk0u"
      },
      "source": [
        "df1 = df1.merge(country, left_on='country_code', right_on='alpha-3')"
      ],
      "execution_count": null,
      "outputs": []
    },
    {
      "cell_type": "code",
      "metadata": {
        "source_hash": "687a51ad",
        "execution_start": 1711896640094,
        "execution_millis": 66,
        "deepnote_to_be_reexecuted": true,
        "cell_id": "1b2db7a1649342a2aaf05f3cb1c6c189",
        "deepnote_cell_type": "code",
        "id": "KsitzOLDMk0u"
      },
      "source": [
        "df1.groupby('continent').size()"
      ],
      "execution_count": null,
      "outputs": []
    },
    {
      "cell_type": "code",
      "source": [],
      "metadata": {
        "id": "Se3X1eCx9NIK"
      },
      "execution_count": null,
      "outputs": []
    },
    {
      "cell_type": "markdown",
      "source": [
        "### Discretization and Binning"
      ],
      "metadata": {
        "id": "bhNf6NfX08Sq"
      }
    },
    {
      "cell_type": "code",
      "source": [
        "df2 = df1.copy()"
      ],
      "metadata": {
        "id": "CpUEZb8CuLSY"
      },
      "execution_count": null,
      "outputs": []
    },
    {
      "cell_type": "code",
      "source": [
        "df2 = df2.drop(['alpha-3', 'country_code', 'market'], axis=1)"
      ],
      "metadata": {
        "id": "PQIqP0F5zugD"
      },
      "execution_count": null,
      "outputs": []
    },
    {
      "cell_type": "code",
      "source": [
        "df2[\"funding_total_usd\"].fillna(0, inplace = True)"
      ],
      "metadata": {
        "id": "SqK_sUVOuLPB"
      },
      "execution_count": null,
      "outputs": []
    },
    {
      "cell_type": "code",
      "source": [
        "df2[['funding_rounds', 'seed', 'venture', 'equity_crowdfunding',\n",
        "       'undisclosed', 'convertible_note', 'debt_financing', 'angel', 'grant',\n",
        "       'private_equity', 'post_ipo_equity', 'post_ipo_debt',\n",
        "       'secondary_market', 'product_crowdfunding', 'round_A', 'round_B',\n",
        "       'round_C', 'round_D', 'round_E', 'round_F', 'round_G', 'round_H',\n",
        "      'funding_total_usd']].describe().T"
      ],
      "metadata": {
        "id": "Sc_m-r-xuLLJ"
      },
      "execution_count": null,
      "outputs": []
    },
    {
      "cell_type": "code",
      "source": [],
      "metadata": {
        "id": "hUSO8I_467Vi"
      },
      "execution_count": null,
      "outputs": []
    },
    {
      "cell_type": "code",
      "source": [
        "group_labels_1 = [\"low\", \"medium\", \"medium-high\", \"high\"]\n",
        "\n",
        "df2[\"category_total\"] = pd.qcut(df2[\"funding_total_usd\"], 4, labels = group_labels_1)"
      ],
      "metadata": {
        "id": "AOLPbeshuLIn"
      },
      "execution_count": null,
      "outputs": []
    },
    {
      "cell_type": "code",
      "source": [
        "df2.groupby(\"category_total\").size()"
      ],
      "metadata": {
        "id": "S38M_-t8uLEf"
      },
      "execution_count": null,
      "outputs": []
    },
    {
      "cell_type": "code",
      "source": [],
      "metadata": {
        "id": "lwKUwl4a6L_n"
      },
      "execution_count": null,
      "outputs": []
    },
    {
      "cell_type": "code",
      "source": [
        "group_labels_2 = [\"low\", \"high\"]\n",
        "\n",
        "df2[\"category_funding_rounds\"] = pd.cut(df2[\"funding_rounds\"], bins = [-1, 2, 18], labels = group_labels_2)"
      ],
      "metadata": {
        "id": "VqM5MStjuK-v"
      },
      "execution_count": null,
      "outputs": []
    },
    {
      "cell_type": "code",
      "source": [
        "df2.groupby(\"category_funding_rounds\").size()"
      ],
      "metadata": {
        "id": "pIEy6n1DuK7I"
      },
      "execution_count": null,
      "outputs": []
    },
    {
      "cell_type": "code",
      "source": [],
      "metadata": {
        "id": "NH1MdXe44wSx"
      },
      "execution_count": null,
      "outputs": []
    },
    {
      "cell_type": "code",
      "source": [
        "group_labels_3 = [\"low\", \"high\"]\n",
        "\n",
        "df2[\"category_seed\"] = pd.cut(df2[\"seed\"], bins = [-1, 28000, 130000000], labels = group_labels_3)"
      ],
      "metadata": {
        "id": "7zO2rtol4wP8"
      },
      "execution_count": null,
      "outputs": []
    },
    {
      "cell_type": "code",
      "source": [
        "df2.groupby(\"category_seed\").size()"
      ],
      "metadata": {
        "id": "hs_ASqwX4wMz"
      },
      "execution_count": null,
      "outputs": []
    },
    {
      "cell_type": "code",
      "source": [],
      "metadata": {
        "id": "KLtVYiUq4wKd"
      },
      "execution_count": null,
      "outputs": []
    },
    {
      "cell_type": "code",
      "source": [
        "group_labels_4 = [\"low\", \"medium\", \"high\"]\n",
        "\n",
        "df2[\"category_venture\"] = pd.cut(df2[\"venture\"], bins = [-1, 85038.5, 6000000, 2351000000], labels = group_labels_4)"
      ],
      "metadata": {
        "id": "DjUePOJf4wHs"
      },
      "execution_count": null,
      "outputs": []
    },
    {
      "cell_type": "code",
      "source": [
        "df2.groupby(\"category_venture\").size()"
      ],
      "metadata": {
        "id": "Ldde8Na44wBJ"
      },
      "execution_count": null,
      "outputs": []
    },
    {
      "cell_type": "code",
      "source": [],
      "metadata": {
        "id": "63zsqF8i4v7e"
      },
      "execution_count": null,
      "outputs": []
    },
    {
      "cell_type": "code",
      "source": [
        "df2['category_status'] = df2['status'].replace(['closed', 'operating', 'acquired'], [0, 1, 2])\n",
        "df2['category_total'] = df2['category_total'].replace(['low','medium','medium-high','high'], [0, 1, 2, 3])\n",
        "df2['category_funding_rounds'] = df2['category_funding_rounds'].replace(['low', 'high'], [0, 1])\n",
        "df2['category_seed'] = df2['category_seed'].replace(['low', 'high'], [0, 1])\n",
        "df2['category_venture'] = df2['category_venture'].replace(['low','medium','high'], [0, 1, 3])"
      ],
      "metadata": {
        "id": "Df5k9K9-uK3S"
      },
      "execution_count": null,
      "outputs": []
    },
    {
      "cell_type": "code",
      "source": [],
      "metadata": {
        "id": "9AzU2azouKuX"
      },
      "execution_count": null,
      "outputs": []
    },
    {
      "cell_type": "code",
      "metadata": {
        "source_hash": "b623e53d",
        "deepnote_to_be_reexecuted": true,
        "cell_id": "55759256d016487eb9aafd7eaad695fc",
        "deepnote_cell_type": "code",
        "id": "HJxe5nXeMk0v"
      },
      "source": [
        "def categorize_equity_crowdfunding(value):\n",
        "    if value < 1:\n",
        "        return 0\n",
        "    elif value > 1:\n",
        "        return 1\n",
        "    else:\n",
        "        return None\n",
        "\n",
        "df2[\"category_equity_crowdfunding\"] = df2[\"equity_crowdfunding\"].apply(categorize_equity_crowdfunding)\n"
      ],
      "execution_count": null,
      "outputs": []
    },
    {
      "cell_type": "code",
      "source": [
        "def categorize_undisclosed(value):\n",
        "    if value < 1:\n",
        "        return 0\n",
        "    elif value > 1:\n",
        "        return 1\n",
        "    else:\n",
        "        return None\n",
        "\n",
        "df2[\"category_undisclosed\"] = df2[\"undisclosed\"].apply(categorize_undisclosed)\n"
      ],
      "metadata": {
        "id": "jQZBWnHeBBmU"
      },
      "execution_count": null,
      "outputs": []
    },
    {
      "cell_type": "code",
      "source": [
        "def categorize_equity_convertible_note(value):\n",
        "    if value < 1:\n",
        "        return 0\n",
        "    elif value > 1:\n",
        "        return 1\n",
        "    else:\n",
        "        return None\n",
        "\n",
        "df2[\"category_convertible_note\"] = df2[\"convertible_note\"].apply(categorize_equity_convertible_note)"
      ],
      "metadata": {
        "id": "S9pTXzb1BBi8"
      },
      "execution_count": null,
      "outputs": []
    },
    {
      "cell_type": "code",
      "source": [
        "def categorize_debt_financing(value):\n",
        "    if value < 1:\n",
        "        return 0\n",
        "    elif value > 1:\n",
        "        return 1\n",
        "    else:\n",
        "        return None\n",
        "\n",
        "df2[\"category_debt_financing\"] = df2[\"debt_financing\"].apply(categorize_debt_financing)"
      ],
      "metadata": {
        "id": "BFwXCSnCBBfq"
      },
      "execution_count": null,
      "outputs": []
    },
    {
      "cell_type": "code",
      "source": [
        "def categorize_angel(value):\n",
        "    if value < 1:\n",
        "        return 0\n",
        "    elif value > 1:\n",
        "        return 1\n",
        "    else:\n",
        "        return None\n",
        "\n",
        "df2[\"category_angel\"] = df2[\"angel\"].apply(categorize_angel)"
      ],
      "metadata": {
        "id": "YrV_f_xrC9R1"
      },
      "execution_count": null,
      "outputs": []
    },
    {
      "cell_type": "code",
      "source": [
        "def categorize_grant(value):\n",
        "    if value < 1:\n",
        "        return 0\n",
        "    elif value > 1:\n",
        "        return 1\n",
        "    else:\n",
        "        return None\n",
        "\n",
        "df2[\"category_grant\"] = df2[\"grant\"].apply(categorize_grant)"
      ],
      "metadata": {
        "id": "kRQAy8mWC9O5"
      },
      "execution_count": null,
      "outputs": []
    },
    {
      "cell_type": "code",
      "source": [
        "def categorize_private_equity(value):\n",
        "    if value < 1:\n",
        "        return 0\n",
        "    elif value > 1:\n",
        "        return 1\n",
        "    else:\n",
        "        return None\n",
        "\n",
        "df2[\"category_private_equity\"] = df2[\"private_equity\"].apply(categorize_private_equity)"
      ],
      "metadata": {
        "id": "iLIp574tC9Nc"
      },
      "execution_count": null,
      "outputs": []
    },
    {
      "cell_type": "code",
      "source": [
        "def categorize_post_ipo_equity(value):\n",
        "    if value < 1:\n",
        "        return 0\n",
        "    elif value > 1:\n",
        "        return 1\n",
        "    else:\n",
        "        return None\n",
        "\n",
        "df2[\"category_post_ipo_equity\"] = df2[\"post_ipo_equity\"].apply(categorize_post_ipo_equity)"
      ],
      "metadata": {
        "id": "K-t2YBSaC9MI"
      },
      "execution_count": null,
      "outputs": []
    },
    {
      "cell_type": "code",
      "source": [
        "def categorize_post_ipo_debt(value):\n",
        "    if value < 1:\n",
        "        return 0\n",
        "    elif value > 1:\n",
        "        return 1\n",
        "    else:\n",
        "        return None\n",
        "\n",
        "df2[\"category_post_ipo_debt\"] = df2[\"post_ipo_debt\"].apply(categorize_post_ipo_debt)"
      ],
      "metadata": {
        "id": "5_RabVEOC9Hz"
      },
      "execution_count": null,
      "outputs": []
    },
    {
      "cell_type": "code",
      "source": [
        "def categorize_secondary_market(value):\n",
        "    if value < 1:\n",
        "        return 0\n",
        "    elif value > 1:\n",
        "        return 1\n",
        "    else:\n",
        "        return None\n",
        "\n",
        "df2[\"category_secondary_market\"] = df2[\"secondary_market\"].apply(categorize_secondary_market)"
      ],
      "metadata": {
        "id": "yGFuHt39C8_9"
      },
      "execution_count": null,
      "outputs": []
    },
    {
      "cell_type": "code",
      "source": [
        "def categorize_product_crowdfunding(value):\n",
        "    if value < 1:\n",
        "        return 0\n",
        "    elif value > 1:\n",
        "        return 1\n",
        "    else:\n",
        "        return None\n",
        "\n",
        "df2[\"category_product_crowdfunding\"] = df2[\"product_crowdfunding\"].apply(categorize_product_crowdfunding)"
      ],
      "metadata": {
        "id": "cROAXf19Fwc7"
      },
      "execution_count": null,
      "outputs": []
    },
    {
      "cell_type": "code",
      "source": [
        "def categorize_round_A(value):\n",
        "    if value < 1:\n",
        "        return 0\n",
        "    elif value > 1:\n",
        "        return 1\n",
        "    else:\n",
        "        return None\n",
        "\n",
        "df2[\"category_round_A\"] = df2[\"round_A\"].apply(categorize_round_A)"
      ],
      "metadata": {
        "id": "NbPGuzEiC88p"
      },
      "execution_count": null,
      "outputs": []
    },
    {
      "cell_type": "code",
      "source": [
        "def categorize_round_B(value):\n",
        "    if value < 1:\n",
        "        return 0\n",
        "    elif value > 1:\n",
        "        return 1\n",
        "    else:\n",
        "        return None\n",
        "\n",
        "df2[\"category_round_B\"] = df2[\"round_B\"].apply(categorize_round_B)"
      ],
      "metadata": {
        "id": "dXkqCNfIC842"
      },
      "execution_count": null,
      "outputs": []
    },
    {
      "cell_type": "code",
      "source": [
        "def categorize_round_C(value):\n",
        "    if value < 1:\n",
        "        return 0\n",
        "    elif value > 1:\n",
        "        return 1\n",
        "    else:\n",
        "        return None\n",
        "\n",
        "df2[\"category_round_C\"] = df2[\"round_C\"].apply(categorize_round_C)"
      ],
      "metadata": {
        "id": "tUNY6YURC83g"
      },
      "execution_count": null,
      "outputs": []
    },
    {
      "cell_type": "code",
      "source": [
        "def categorize_round_D(value):\n",
        "    if value < 1:\n",
        "        return 0\n",
        "    elif value > 1:\n",
        "        return 1\n",
        "    else:\n",
        "        return None\n",
        "\n",
        "df2[\"category_round_D\"] = df2[\"round_D\"].apply(categorize_round_D)"
      ],
      "metadata": {
        "id": "M3HLLlvoC8x_"
      },
      "execution_count": null,
      "outputs": []
    },
    {
      "cell_type": "code",
      "source": [
        "def categorize_round_E(value):\n",
        "    if value < 1:\n",
        "        return 0\n",
        "    elif value > 1:\n",
        "        return 1\n",
        "    else:\n",
        "        return None\n",
        "\n",
        "df2[\"category_round_E\"] = df2[\"round_E\"].apply(categorize_round_E)"
      ],
      "metadata": {
        "id": "cjJYXSAuC8u1"
      },
      "execution_count": null,
      "outputs": []
    },
    {
      "cell_type": "code",
      "source": [
        "def categorize_round_F(value):\n",
        "    if value < 1:\n",
        "        return 0\n",
        "    elif value > 1:\n",
        "        return 1\n",
        "    else:\n",
        "        return None\n",
        "\n",
        "df2[\"category_round_F\"] = df2[\"round_F\"].apply(categorize_round_F)"
      ],
      "metadata": {
        "id": "eq-lEx-lC8rb"
      },
      "execution_count": null,
      "outputs": []
    },
    {
      "cell_type": "code",
      "source": [
        "def categorize_round_G(value):\n",
        "    if value < 1:\n",
        "        return 0\n",
        "    elif value > 1:\n",
        "        return 1\n",
        "    else:\n",
        "        return None\n",
        "\n",
        "df2[\"category_round_G\"] = df2[\"round_G\"].apply(categorize_round_G)"
      ],
      "metadata": {
        "id": "APjONaAlC8cC"
      },
      "execution_count": null,
      "outputs": []
    },
    {
      "cell_type": "code",
      "source": [
        "def categorize_round_H(value):\n",
        "    if value < 1:\n",
        "        return 0\n",
        "    elif value > 1:\n",
        "        return 1\n",
        "    else:\n",
        "        return None\n",
        "\n",
        "df2[\"category_round_H\"] = df2[\"round_H\"].apply(categorize_round_H)"
      ],
      "metadata": {
        "id": "e-ldVGTaCCFk"
      },
      "execution_count": null,
      "outputs": []
    },
    {
      "cell_type": "code",
      "source": [],
      "metadata": {
        "id": "2hU87cCOCCBw"
      },
      "execution_count": null,
      "outputs": []
    },
    {
      "cell_type": "code",
      "source": [
        "from sklearn.preprocessing import LabelEncoder\n",
        "labelencoder = LabelEncoder()\n",
        "\n",
        "\n",
        "df2['category_continent'] = labelencoder.fit_transform(df2['continent']) # using label encoder on continent\n",
        "df2['category_Industry_Group'] = labelencoder.fit_transform(df2['Industry_Group'])"
      ],
      "metadata": {
        "id": "_VXzCf3zCB04"
      },
      "execution_count": null,
      "outputs": []
    },
    {
      "cell_type": "code",
      "source": [],
      "metadata": {
        "id": "dIpwzgu8CBcu"
      },
      "execution_count": null,
      "outputs": []
    },
    {
      "cell_type": "code",
      "source": [
        "df3 = df2[['category_status', 'category_Industry_Group',\n",
        "       'category_continent', 'category_funding_rounds',\n",
        "       'category_total',\n",
        "       'category_equity_crowdfunding', 'category_venture', 'category_seed', 'category_undisclosed',\n",
        "       'category_convertible_note', 'category_debt_financing', 'category_angel', 'category_grant',\n",
        "       'category_private_equity', 'category_post_ipo_equity', 'category_post_ipo_debt',\n",
        "       'category_secondary_market', 'category_product_crowdfunding', 'category_round_A',\n",
        "       'category_round_B', 'category_round_C', 'category_round_D', 'category_round_E',\n",
        "       'category_round_F', 'category_round_G', 'category_round_H']]\n",
        "\n",
        "df3.head()"
      ],
      "metadata": {
        "id": "EE-OP-7VBBVj"
      },
      "execution_count": null,
      "outputs": []
    },
    {
      "cell_type": "code",
      "source": [],
      "metadata": {
        "id": "xg_wF_uwGLNP"
      },
      "execution_count": null,
      "outputs": []
    },
    {
      "cell_type": "code",
      "source": [],
      "metadata": {
        "id": "KXAugu4GGLJh"
      },
      "execution_count": null,
      "outputs": []
    },
    {
      "cell_type": "code",
      "source": [],
      "metadata": {
        "id": "XwL20d-3GLE2"
      },
      "execution_count": null,
      "outputs": []
    },
    {
      "cell_type": "code",
      "source": [],
      "metadata": {
        "id": "rhk18GJPGLAz",
        "colab": {
          "base_uri": "https://localhost:8080/"
        },
        "outputId": "7574d7ea-4fc9-4752-c7be-733f15e18858"
      },
      "execution_count": 3,
      "outputs": [
        {
          "output_type": "stream",
          "name": "stdout",
          "text": [
            "0\n",
            "1\n",
            "2\n",
            "3\n",
            "4\n",
            "5\n",
            "6\n",
            "7\n",
            "8\n",
            "9\n",
            "10\n",
            "11\n",
            "12\n",
            "13\n",
            "14\n",
            "15\n",
            "16\n",
            "17\n",
            "18\n",
            "19\n",
            "20\n",
            "21\n",
            "22\n",
            "23\n",
            "24\n"
          ]
        }
      ]
    },
    {
      "cell_type": "code",
      "source": [
        "dfjkbsdfailuffdiugiuFBIZUghifs<\n"
      ],
      "metadata": {
        "id": "NE-4tq1RGK0Z",
        "colab": {
          "base_uri": "https://localhost:8080/",
          "height": 108
        },
        "outputId": "efd5d6b7-6966-4171-a95e-483778c7f513"
      },
      "execution_count": 1,
      "outputs": [
        {
          "output_type": "error",
          "ename": "SyntaxError",
          "evalue": "invalid syntax (<ipython-input-1-b857f0875229>, line 1)",
          "traceback": [
            "\u001b[0;36m  File \u001b[0;32m\"<ipython-input-1-b857f0875229>\"\u001b[0;36m, line \u001b[0;32m1\u001b[0m\n\u001b[0;31m    dfjkbsdfailuffdiugiuFBIZUghifs<\u001b[0m\n\u001b[0m                                   ^\u001b[0m\n\u001b[0;31mSyntaxError\u001b[0m\u001b[0;31m:\u001b[0m invalid syntax\n"
          ]
        }
      ]
    },
    {
      "cell_type": "markdown",
      "metadata": {
        "cell_id": "a68b9793eaa54c1eaf8afe682adb474c",
        "deepnote_cell_type": "markdown",
        "id": "AzS0kvK0Mk0v"
      },
      "source": [
        "## Modeling\n",
        "You should implemente AT LEAST TWO approaches we covered so far, and tune of at least two hyperparameters of each approach.\n",
        "Do not forget that you should split your data into train and test set.\n",
        "You should do model selection and tuning using cross validation on the train set, avoiding data leakage.\n",
        "Explain and justify what is the metric you are using for model selection and tuning."
      ]
    },
    {
      "cell_type": "markdown",
      "metadata": {
        "cell_id": "22adf02aa1984e37b14e089853de2c71",
        "deepnote_cell_type": "markdown",
        "id": "CWJEP7RPMk0v"
      },
      "source": [
        "## Model evaluation\n",
        "\n",
        "After selecting and tuning your model on the train set, you should evaluate its performance on the test set.\n",
        "You might have tuned your model using a certain metric, but now you should describe the model performance using all relevant metrics.\n",
        "If you have some business insight, why a certain metric is relevant, you should explain it.\n",
        "For example, in disease detection, you might not want to have a false positive rate higher than some threshold (say 5%).\n",
        "Choose a suitable baseline to benchmark your result and to put them in the context.\n",
        "\n",
        "If you preformed clustering, you should describe and visualize your clusters."
      ]
    },
    {
      "cell_type": "markdown",
      "metadata": {
        "cell_id": "b07524b90a814eb9addbf51f7d33992c",
        "deepnote_cell_type": "markdown",
        "id": "NpGheP87Mk0v"
      },
      "source": [
        "## Next steps\n",
        "\n",
        "If you already have an idea what are the next steps for your project, please describe them.\n",
        "This part is not graded, but can help us give you feedback."
      ]
    },
    {
      "cell_type": "markdown",
      "source": [
        "<a style='text-decoration:none;line-height:16px;display:flex;color:#5B5B62;padding:10px;justify-content:end;' href='https://deepnote.com?utm_source=created-in-deepnote-cell&projectId=5a7e697c-3af8-4510-a4e4-54669be63340' target=\"_blank\">\n",
        "<img alt='Created in deepnote.com' style='display:inline;max-height:16px;margin:0px;margin-right:7.5px;' src='data:image/svg+xml;base64,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' > </img>\n",
        "Created in <span style='font-weight:600;margin-left:4px;'>Deepnote</span></a>"
      ],
      "metadata": {
        "created_in_deepnote_cell": true,
        "deepnote_cell_type": "markdown",
        "id": "oUfJTaBYMk0v"
      }
    }
  ],
  "nbformat": 4,
  "nbformat_minor": 0,
  "metadata": {
    "deepnote_persisted_session": {
      "createdAt": "2024-03-31T15:15:08.065Z"
    },
    "deepnote_notebook_id": "c488931ec1a44b4cbc8957a429fe618a",
    "deepnote_execution_queue": [],
    "colab": {
      "provenance": [],
      "include_colab_link": true
    },
    "language_info": {
      "name": "python"
    },
    "kernelspec": {
      "name": "python3",
      "display_name": "Python 3"
    }
  }
}